{
 "cells": [
  {
   "cell_type": "code",
   "execution_count": 1,
   "id": "d1a558b4-3231-4ec6-99cd-ba8659d91bb1",
   "metadata": {},
   "outputs": [],
   "source": [
    "from kiwipiepy import Kiwi\n",
    "from kiwipiepy.utils import Stopwords"
   ]
  },
  {
   "cell_type": "code",
   "execution_count": 4,
   "id": "71c68bbc-2fa5-4dda-a1d4-281861bbec67",
   "metadata": {},
   "outputs": [],
   "source": [
    "stopwords = Stopwords()\n",
    "tokenizer = Kiwi()"
   ]
  },
  {
   "cell_type": "code",
   "execution_count": 26,
   "id": "d5212a3b-3e6e-4a3a-a885-2286dd1cb6e0",
   "metadata": {},
   "outputs": [],
   "source": [
    "def tokenize(text):\n",
    "    tokens = tokenizer.tokenize(text, stopwords=stopwords)\n",
    "    return [ (pos.form, pos.tag) for pos in tokens]"
   ]
  },
  {
   "cell_type": "code",
   "execution_count": 29,
   "id": "6bba145e-7073-47c2-b8c2-3f68478cae81",
   "metadata": {},
   "outputs": [
    {
     "name": "stderr",
     "output_type": "stream",
     "text": [
      "100%|███████████████████████████████████| 34477/34477 [00:16<00:00, 2052.29it/s]\n"
     ]
    }
   ],
   "source": [
    "from rank_bm25 import BM25Okapi\n",
    "import pickle\n",
    "import pandas as pd\n",
    "from tqdm import tqdm\n",
    "\n",
    "df = pd.read_excel('../resources/comfort_datasets.xlsx')\n",
    "\n",
    "corpus = df['user'].tolist()\n",
    "tokenized_corpus = [tokenize(doc) for doc in tqdm(corpus)]\n",
    "bm25 = BM25Okapi(tokenized_corpus)\n",
    "\n",
    "# To save bm25 object\n",
    "with open('bm25result', 'wb') as bm25result_file:\n",
    "    pickle.dump(bm25, bm25result_file)"
   ]
  },
  {
   "cell_type": "code",
   "execution_count": 39,
   "id": "f9dceb0d-0602-484c-a317-c79fe6b6211d",
   "metadata": {},
   "outputs": [],
   "source": [
    "import numpy as np"
   ]
  },
  {
   "cell_type": "code",
   "execution_count": 40,
   "id": "13b98b45-1d48-43a2-8d1c-004e69259500",
   "metadata": {},
   "outputs": [],
   "source": [
    "# to read bm25 object\n",
    "with open('bm25result', 'rb') as bm25result_file:\n",
    "    bm25result = pickle.load(bm25result_file)"
   ]
  },
  {
   "cell_type": "code",
   "execution_count": 71,
   "id": "3feeb9f6-1999-43e7-9530-b49ada7655bf",
   "metadata": {},
   "outputs": [],
   "source": [
    "def bm25_search(query, n=5):\n",
    "    tokenized_query = tokenize(query)\n",
    "    topk = bm25result.get_top_n(tokenized_query, corpus, n=n)\n",
    "    return topk\n",
    "\n",
    "\n",
    "def bm25_chatbot_response(query, n=5):\n",
    "    tokenized_query = tokenize(query)\n",
    "    scores = bm25result.get_scores(tokenized_query)\n",
    "    top_5_indices = np.argsort(scores)[-5:]\n",
    "    res = df.loc[top_5_indices[::-1]]\n",
    "    return res"
   ]
  },
  {
   "cell_type": "code",
   "execution_count": 77,
   "id": "97adf8c6-0afe-485b-9fd9-805d10b9d667",
   "metadata": {},
   "outputs": [
    {
     "data": {
      "text/plain": [
       "[30948, 30935, 30949, 30947, 29123]"
      ]
     },
     "execution_count": 77,
     "metadata": {},
     "output_type": "execute_result"
    }
   ],
   "source": [
    "bm25_chatbot_response(\"짝사랑 포기하는 방법\").index.to_list()"
   ]
  },
  {
   "cell_type": "code",
   "execution_count": null,
   "id": "57ab679e-37ea-40f8-916f-21eaec7d2196",
   "metadata": {},
   "outputs": [],
   "source": []
  }
 ],
 "metadata": {
  "kernelspec": {
   "display_name": "torch",
   "language": "python",
   "name": "torch"
  },
  "language_info": {
   "codemirror_mode": {
    "name": "ipython",
    "version": 3
   },
   "file_extension": ".py",
   "mimetype": "text/x-python",
   "name": "python",
   "nbconvert_exporter": "python",
   "pygments_lexer": "ipython3",
   "version": "3.9.16"
  }
 },
 "nbformat": 4,
 "nbformat_minor": 5
}

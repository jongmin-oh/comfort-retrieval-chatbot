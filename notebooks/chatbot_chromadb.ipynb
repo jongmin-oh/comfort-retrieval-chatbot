{
 "cells": [
  {
   "cell_type": "code",
   "execution_count": 2,
   "id": "bd0e42c1-8495-46b2-9015-0434c63eaf23",
   "metadata": {},
   "outputs": [],
   "source": [
    "import chromadb\n",
    "client = chromadb.PersistentClient()"
   ]
  },
  {
   "cell_type": "code",
   "execution_count": null,
   "id": "c9562c1a-9ed6-4d2e-96e0-9e38cbf73a30",
   "metadata": {},
   "outputs": [],
   "source": [
    "client.delete_collection(\"answers\")"
   ]
  },
  {
   "cell_type": "code",
   "execution_count": 2,
   "id": "dbed9f6f-cfc6-47ad-aa25-881fb9bad5b2",
   "metadata": {},
   "outputs": [],
   "source": [
    "answers = client.create_collection(\n",
    "    name=\"answers\"\n",
    ")"
   ]
  },
  {
   "cell_type": "code",
   "execution_count": 7,
   "id": "5c582efd-de88-4934-a538-580f3792d920",
   "metadata": {},
   "outputs": [
    {
     "data": {
      "text/html": [
       "<div>\n",
       "<style scoped>\n",
       "    .dataframe tbody tr th:only-of-type {\n",
       "        vertical-align: middle;\n",
       "    }\n",
       "\n",
       "    .dataframe tbody tr th {\n",
       "        vertical-align: top;\n",
       "    }\n",
       "\n",
       "    .dataframe thead th {\n",
       "        text-align: right;\n",
       "    }\n",
       "</style>\n",
       "<table border=\"1\" class=\"dataframe\">\n",
       "  <thead>\n",
       "    <tr style=\"text-align: right;\">\n",
       "      <th></th>\n",
       "      <th>user</th>\n",
       "      <th>answer</th>\n",
       "      <th>class</th>\n",
       "    </tr>\n",
       "  </thead>\n",
       "  <tbody>\n",
       "    <tr>\n",
       "      <th>25639</th>\n",
       "      <td>다 내려놓고 싶어...</td>\n",
       "      <td>많이 지치셨군요...잠시 주변의 나무를 봐봐요. 무거운 나뭇잎들을 지니면서 힘들지만...</td>\n",
       "      <td>사연</td>\n",
       "    </tr>\n",
       "    <tr>\n",
       "      <th>27826</th>\n",
       "      <td>오늘은 쉬는 날이다 ๑ᴗ ๑</td>\n",
       "      <td>오늘 하루 푹 쉬어요</td>\n",
       "      <td>사연</td>\n",
       "    </tr>\n",
       "    <tr>\n",
       "      <th>6291</th>\n",
       "      <td>영화관 혼자 왔어</td>\n",
       "      <td>영화는 원래 혼자 보는게 제일 재밌어요</td>\n",
       "      <td>일상</td>\n",
       "    </tr>\n",
       "    <tr>\n",
       "      <th>14847</th>\n",
       "      <td>자려고 침대에 누워도 잠이 안와요.</td>\n",
       "      <td>하루 동안 열심히 살아왔으니 이제 푹 쉬세요. 내일 아침에는 개운하게 일어날 수 있...</td>\n",
       "      <td>증상</td>\n",
       "    </tr>\n",
       "    <tr>\n",
       "      <th>31334</th>\n",
       "      <td>올 여름휴가 때 여럿이 함께 하려면 어떻게 해야 하지?</td>\n",
       "      <td>부모님이나 친구들과 함께 휴가 계획을 짜 보는 건 어떨까요? 봉사활동이나 동아리 가...</td>\n",
       "      <td>사연</td>\n",
       "    </tr>\n",
       "  </tbody>\n",
       "</table>\n",
       "</div>"
      ],
      "text/plain": [
       "                                 user  \\\n",
       "25639                    다 내려놓고 싶어...   \n",
       "27826                 오늘은 쉬는 날이다 ๑ᴗ ๑   \n",
       "6291                        영화관 혼자 왔어   \n",
       "14847             자려고 침대에 누워도 잠이 안와요.   \n",
       "31334  올 여름휴가 때 여럿이 함께 하려면 어떻게 해야 하지?   \n",
       "\n",
       "                                                  answer class  \n",
       "25639  많이 지치셨군요...잠시 주변의 나무를 봐봐요. 무거운 나뭇잎들을 지니면서 힘들지만...    사연  \n",
       "27826                                        오늘 하루 푹 쉬어요    사연  \n",
       "6291                               영화는 원래 혼자 보는게 제일 재밌어요    일상  \n",
       "14847  하루 동안 열심히 살아왔으니 이제 푹 쉬세요. 내일 아침에는 개운하게 일어날 수 있...    증상  \n",
       "31334  부모님이나 친구들과 함께 휴가 계획을 짜 보는 건 어떨까요? 봉사활동이나 동아리 가...    사연  "
      ]
     },
     "execution_count": 7,
     "metadata": {},
     "output_type": "execute_result"
    }
   ],
   "source": [
    "import pandas as pd\n",
    "from tqdm import tqdm\n",
    "\n",
    "df = pd.read_excel(\"../resources/comfort_datasets.xlsx\")\n",
    "df.sample(5)"
   ]
  },
  {
   "cell_type": "code",
   "execution_count": 8,
   "id": "b8e7f12a-b2f7-455f-ab11-ef5c84ac7ba0",
   "metadata": {},
   "outputs": [
    {
     "data": {
      "text/plain": [
       "35363"
      ]
     },
     "execution_count": 8,
     "metadata": {},
     "output_type": "execute_result"
    }
   ],
   "source": [
    "len(df)"
   ]
  },
  {
   "cell_type": "code",
   "execution_count": 5,
   "id": "d12f2e20-bcd4-48a7-b352-02c479f35cf7",
   "metadata": {},
   "outputs": [
    {
     "name": "stderr",
     "output_type": "stream",
     "text": [
      "/opt/anaconda3/envs/torch/lib/python3.9/site-packages/tqdm/auto.py:21: TqdmWarning: IProgress not found. Please update jupyter and ipywidgets. See https://ipywidgets.readthedocs.io/en/stable/user_install.html\n",
      "  from .autonotebook import tqdm as notebook_tqdm\n"
     ]
    }
   ],
   "source": [
    "from sentence_transformers import SentenceTransformer\n",
    "model = SentenceTransformer('snunlp/KR-SBERT-V40K-klueNLI-augSTS')"
   ]
  },
  {
   "cell_type": "code",
   "execution_count": 9,
   "id": "58367f82-7bce-4321-bbd8-d0827feaa85a",
   "metadata": {},
   "outputs": [
    {
     "name": "stderr",
     "output_type": "stream",
     "text": [
      "Batches: 100%|████████████████████████████████| 397/397 [01:23<00:00,  4.76it/s]\n",
      "12701it [00:00, 33037.14it/s]\n",
      "100%|██████████████████████████████████| 12701/12701 [00:00<00:00, 35134.35it/s]\n",
      "100%|███████████████████████████████████████████| 13/13 [00:08<00:00,  1.62it/s]\n"
     ]
    }
   ],
   "source": [
    "ids = []\n",
    "metadatas = []\n",
    "embeddings = model.encode(df['user'],\n",
    "                          normalize_embeddings=True,\n",
    "                          show_progress_bar=True)\n",
    "\n",
    "for row in tqdm(df.iterrows()):\n",
    "    index = row[0]\n",
    "    query = row[1].user\n",
    "    answer = row[1].answer\n",
    "    \n",
    "    metadata = {\n",
    "        \"query\": query,\n",
    "        \"answer\": answer\n",
    "    }\n",
    "    ids.append(str(index))\n",
    "    metadatas.append(metadata)\n",
    "    \n",
    "chunk_size = 1024  # 한 번에 처리할 chunk 크기 설정\n",
    "total_chunks = len(embeddings) // chunk_size + 1  # 전체 데이터를 chunk 단위로 나눈 횟수\n",
    "embeddings = [ e.tolist() for e in tqdm(embeddings)]  \n",
    "\n",
    "for chunk_idx in tqdm(range(total_chunks)):\n",
    "    start_idx = chunk_idx * chunk_size\n",
    "    end_idx = (chunk_idx + 1) * chunk_size\n",
    "    \n",
    "    # chunk 단위로 데이터 자르기\n",
    "    chunk_embeddings = embeddings[start_idx:end_idx]\n",
    "    chunk_ids = ids[start_idx:end_idx]\n",
    "    chunk_metadatas = metadatas[start_idx:end_idx]\n",
    "    \n",
    "    # chunk를 answers에 추가\n",
    "    answers.add(embeddings=chunk_embeddings, ids=chunk_ids, metadatas=chunk_metadatas)"
   ]
  },
  {
   "cell_type": "code",
   "execution_count": 1,
   "id": "24737041-841b-4e00-a394-f099b112c326",
   "metadata": {},
   "outputs": [
    {
     "ename": "NameError",
     "evalue": "name 'answers' is not defined",
     "output_type": "error",
     "traceback": [
      "\u001b[0;31m---------------------------------------------------------------------------\u001b[0m",
      "\u001b[0;31mNameError\u001b[0m                                 Traceback (most recent call last)",
      "Cell \u001b[0;32mIn[1], line 1\u001b[0m\n\u001b[0;32m----> 1\u001b[0m result \u001b[38;5;241m=\u001b[39m \u001b[43manswers\u001b[49m\u001b[38;5;241m.\u001b[39mquery(\n\u001b[1;32m      2\u001b[0m     query_embeddings\u001b[38;5;241m=\u001b[39mmodel\u001b[38;5;241m.\u001b[39mencode(\u001b[38;5;124m\"\u001b[39m\u001b[38;5;124m자꾸만 눈물이 나와\u001b[39m\u001b[38;5;124m\"\u001b[39m, normalize_embeddings\u001b[38;5;241m=\u001b[39m\u001b[38;5;28;01mTrue\u001b[39;00m)\u001b[38;5;241m.\u001b[39mtolist(),\n\u001b[1;32m      3\u001b[0m     n_results\u001b[38;5;241m=\u001b[39m\u001b[38;5;241m1\u001b[39m\n\u001b[1;32m      4\u001b[0m )\n\u001b[1;32m      6\u001b[0m result_df \u001b[38;5;241m=\u001b[39m pd\u001b[38;5;241m.\u001b[39mDataFrame(result[\u001b[38;5;124m'\u001b[39m\u001b[38;5;124mmetadatas\u001b[39m\u001b[38;5;124m'\u001b[39m][\u001b[38;5;241m0\u001b[39m])\n\u001b[1;32m      7\u001b[0m result_df[\u001b[38;5;124m'\u001b[39m\u001b[38;5;124mdistances\u001b[39m\u001b[38;5;124m'\u001b[39m] \u001b[38;5;241m=\u001b[39m result[\u001b[38;5;124m'\u001b[39m\u001b[38;5;124mdistances\u001b[39m\u001b[38;5;124m'\u001b[39m][\u001b[38;5;241m0\u001b[39m]\n",
      "\u001b[0;31mNameError\u001b[0m: name 'answers' is not defined"
     ]
    }
   ],
   "source": [
    "result = answers.query(\n",
    "    query_embeddings=model.encode(\"자꾸만 눈물이 나와\", normalize_embeddings=True).tolist(),\n",
    "    n_results=1\n",
    ")\n",
    "\n",
    "result_df = pd.DataFrame(result['metadatas'][0])\n",
    "result_df['distances'] = result['distances'][0]\n",
    "result_df"
   ]
  },
  {
   "cell_type": "code",
   "execution_count": 38,
   "id": "e72ab60e-2dfe-46ae-b61f-d6c5c01dec03",
   "metadata": {},
   "outputs": [
    {
     "data": {
      "text/plain": [
       "'왜 울어요? 무슨 일 있어요?'"
      ]
     },
     "execution_count": 38,
     "metadata": {},
     "output_type": "execute_result"
    }
   ],
   "source": [
    "result['metadatas'][0][0]['answer']"
   ]
  },
  {
   "cell_type": "code",
   "execution_count": 3,
   "id": "05bd02f7-dfab-4867-aec4-29a006f1035c",
   "metadata": {},
   "outputs": [
    {
     "ename": "NameError",
     "evalue": "name 'df' is not defined",
     "output_type": "error",
     "traceback": [
      "\u001b[0;31m---------------------------------------------------------------------------\u001b[0m",
      "\u001b[0;31mNameError\u001b[0m                                 Traceback (most recent call last)",
      "Cell \u001b[0;32mIn[3], line 1\u001b[0m\n\u001b[0;32m----> 1\u001b[0m \u001b[38;5;28mlen\u001b[39m(\u001b[43mdf\u001b[49m)\n",
      "\u001b[0;31mNameError\u001b[0m: name 'df' is not defined"
     ]
    }
   ],
   "source": [
    "len(df)"
   ]
  },
  {
   "cell_type": "code",
   "execution_count": null,
   "id": "7b6e3b80-51e3-4402-b735-006efa158324",
   "metadata": {},
   "outputs": [],
   "source": []
  }
 ],
 "metadata": {
  "kernelspec": {
   "display_name": "torch",
   "language": "python",
   "name": "torch"
  },
  "language_info": {
   "codemirror_mode": {
    "name": "ipython",
    "version": 3
   },
   "file_extension": ".py",
   "mimetype": "text/x-python",
   "name": "python",
   "nbconvert_exporter": "python",
   "pygments_lexer": "ipython3",
   "version": "3.9.16"
  }
 },
 "nbformat": 4,
 "nbformat_minor": 5
}

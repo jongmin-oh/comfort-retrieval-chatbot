{
 "cells": [
  {
   "cell_type": "code",
   "execution_count": 1,
   "id": "bd0e42c1-8495-46b2-9015-0434c63eaf23",
   "metadata": {},
   "outputs": [],
   "source": [
    "import chromadb\n",
    "client = chromadb.PersistentClient()"
   ]
  },
  {
   "cell_type": "code",
   "execution_count": 2,
   "id": "c9562c1a-9ed6-4d2e-96e0-9e38cbf73a30",
   "metadata": {},
   "outputs": [],
   "source": [
    "client.delete_collection(\"answers\")"
   ]
  },
  {
   "cell_type": "code",
   "execution_count": 3,
   "id": "dbed9f6f-cfc6-47ad-aa25-881fb9bad5b2",
   "metadata": {},
   "outputs": [],
   "source": [
    "answers = client.create_collection(\n",
    "    name=\"answers\"\n",
    ")"
   ]
  },
  {
   "cell_type": "code",
   "execution_count": 4,
   "id": "5c582efd-de88-4934-a538-580f3792d920",
   "metadata": {
    "tags": []
   },
   "outputs": [
    {
     "data": {
      "text/html": [
       "<div>\n",
       "<style scoped>\n",
       "    .dataframe tbody tr th:only-of-type {\n",
       "        vertical-align: middle;\n",
       "    }\n",
       "\n",
       "    .dataframe tbody tr th {\n",
       "        vertical-align: top;\n",
       "    }\n",
       "\n",
       "    .dataframe thead th {\n",
       "        text-align: right;\n",
       "    }\n",
       "</style>\n",
       "<table border=\"1\" class=\"dataframe\">\n",
       "  <thead>\n",
       "    <tr style=\"text-align: right;\">\n",
       "      <th></th>\n",
       "      <th>user</th>\n",
       "      <th>answer</th>\n",
       "      <th>class</th>\n",
       "    </tr>\n",
       "  </thead>\n",
       "  <tbody>\n",
       "    <tr>\n",
       "      <th>0</th>\n",
       "      <td>가부장적인 사회, 오늘따라 더 짜증 나</td>\n",
       "      <td>가부장적인 사회는 남녀 모두에게 좋지 않죠. 남자에게는 과도한 책임감을 부여해서 지...</td>\n",
       "      <td>사연</td>\n",
       "    </tr>\n",
       "    <tr>\n",
       "      <th>1</th>\n",
       "      <td>나 조금 힘들고, 우울해.</td>\n",
       "      <td>위로해 드리고 싶어요. 힘들지만 잘 견뎌줘서 고마워요.</td>\n",
       "      <td>사연</td>\n",
       "    </tr>\n",
       "    <tr>\n",
       "      <th>2</th>\n",
       "      <td>너만 그런거 아니야  그만 듣고 싶다</td>\n",
       "      <td>밤이 저무는 것처럼 고민도, 아픔도 조금은 저물길 바라요. 오늘도 수고했어요. 다 ...</td>\n",
       "      <td>사연</td>\n",
       "    </tr>\n",
       "    <tr>\n",
       "      <th>3</th>\n",
       "      <td>응원 좀 해줘 잘 될 거라고, 내가 반드시 해낼 거라고, 나 믿는다고</td>\n",
       "      <td>잘 될 거예요. 할 수 있어요. 비록 장애물이 있어 넘어지더라도 결국 해내실 거라는...</td>\n",
       "      <td>사연</td>\n",
       "    </tr>\n",
       "    <tr>\n",
       "      <th>4</th>\n",
       "      <td>쉬어도 괜찮아요.</td>\n",
       "      <td>네! 힘드실때 언제든 와서 쉬다 가요!!</td>\n",
       "      <td>사연</td>\n",
       "    </tr>\n",
       "    <tr>\n",
       "      <th>...</th>\n",
       "      <td>...</td>\n",
       "      <td>...</td>\n",
       "      <td>...</td>\n",
       "    </tr>\n",
       "    <tr>\n",
       "      <th>34472</th>\n",
       "      <td>TV를 틀어놓고 제대로 보는 것도 아니에요.</td>\n",
       "      <td>집중력이 부족하시군요. 그러면 공부할 때에도 다른 생각이 많이 들 거예요. 그리고 ...</td>\n",
       "      <td>증상</td>\n",
       "    </tr>\n",
       "    <tr>\n",
       "      <th>34473</th>\n",
       "      <td>TV를 틀어놓고 제대로 보는 것도 아니에요.</td>\n",
       "      <td>TV를 틀어놓고 집중해서 보지 않는 것은 낭비일 수 있겠죠. 하지만 그렇다고 너무 ...</td>\n",
       "      <td>증상</td>\n",
       "    </tr>\n",
       "    <tr>\n",
       "      <th>34474</th>\n",
       "      <td>Who can relate? 누가 알아주긴 할까?</td>\n",
       "      <td>알아주는 이가 없어서 많이 속상하신가요~? 분명히 선생님을 알아주는 이가 있어요! ...</td>\n",
       "      <td>사연</td>\n",
       "    </tr>\n",
       "    <tr>\n",
       "      <th>34475</th>\n",
       "      <td>WPW증후군 진단 받았는데 심각한 것 같진 않아서 따로 치료를 받은 적은 없어요.</td>\n",
       "      <td>그렇다면 더 큰 문제가 생기기 전에 전문가에게 상담을 받아보는 것이 좋을 것 같아요...</td>\n",
       "      <td>증상</td>\n",
       "    </tr>\n",
       "    <tr>\n",
       "      <th>34476</th>\n",
       "      <td>WPW증후군 진단 받았는데 심각한 것 같진 않아서 따로 치료를 받은 적은 없어요.</td>\n",
       "      <td>WPW증후군은 치료가 필요한 경우도 있지만, 심각하지 않다면 걱정할 필요는 없어요....</td>\n",
       "      <td>증상</td>\n",
       "    </tr>\n",
       "  </tbody>\n",
       "</table>\n",
       "<p>34477 rows × 3 columns</p>\n",
       "</div>"
      ],
      "text/plain": [
       "                                                user  \\\n",
       "0                              가부장적인 사회, 오늘따라 더 짜증 나   \n",
       "1                                     나 조금 힘들고, 우울해.   \n",
       "2                               너만 그런거 아니야  그만 듣고 싶다   \n",
       "3             응원 좀 해줘 잘 될 거라고, 내가 반드시 해낼 거라고, 나 믿는다고   \n",
       "4                                          쉬어도 괜찮아요.   \n",
       "...                                              ...   \n",
       "34472                       TV를 틀어놓고 제대로 보는 것도 아니에요.   \n",
       "34473                       TV를 틀어놓고 제대로 보는 것도 아니에요.   \n",
       "34474                    Who can relate? 누가 알아주긴 할까?   \n",
       "34475  WPW증후군 진단 받았는데 심각한 것 같진 않아서 따로 치료를 받은 적은 없어요.   \n",
       "34476  WPW증후군 진단 받았는데 심각한 것 같진 않아서 따로 치료를 받은 적은 없어요.   \n",
       "\n",
       "                                                  answer class  \n",
       "0      가부장적인 사회는 남녀 모두에게 좋지 않죠. 남자에게는 과도한 책임감을 부여해서 지...    사연  \n",
       "1                         위로해 드리고 싶어요. 힘들지만 잘 견뎌줘서 고마워요.    사연  \n",
       "2      밤이 저무는 것처럼 고민도, 아픔도 조금은 저물길 바라요. 오늘도 수고했어요. 다 ...    사연  \n",
       "3      잘 될 거예요. 할 수 있어요. 비록 장애물이 있어 넘어지더라도 결국 해내실 거라는...    사연  \n",
       "4                                 네! 힘드실때 언제든 와서 쉬다 가요!!    사연  \n",
       "...                                                  ...   ...  \n",
       "34472  집중력이 부족하시군요. 그러면 공부할 때에도 다른 생각이 많이 들 거예요. 그리고 ...    증상  \n",
       "34473  TV를 틀어놓고 집중해서 보지 않는 것은 낭비일 수 있겠죠. 하지만 그렇다고 너무 ...    증상  \n",
       "34474  알아주는 이가 없어서 많이 속상하신가요~? 분명히 선생님을 알아주는 이가 있어요! ...    사연  \n",
       "34475  그렇다면 더 큰 문제가 생기기 전에 전문가에게 상담을 받아보는 것이 좋을 것 같아요...    증상  \n",
       "34476  WPW증후군은 치료가 필요한 경우도 있지만, 심각하지 않다면 걱정할 필요는 없어요....    증상  \n",
       "\n",
       "[34477 rows x 3 columns]"
      ]
     },
     "execution_count": 4,
     "metadata": {},
     "output_type": "execute_result"
    }
   ],
   "source": [
    "import pandas as pd\n",
    "from tqdm import tqdm\n",
    "\n",
    "df = pd.read_excel(\"../resources/comfort_datasets.xlsx\")\n",
    "df"
   ]
  },
  {
   "cell_type": "code",
   "execution_count": 6,
   "id": "d12f2e20-bcd4-48a7-b352-02c479f35cf7",
   "metadata": {},
   "outputs": [
    {
     "name": "stderr",
     "output_type": "stream",
     "text": [
      "Special tokens have been added in the vocabulary, make sure the associated word embeddings are fine-tuned or trained.\n"
     ]
    }
   ],
   "source": [
    "from onnxruntime import InferenceSession\n",
    "from transformers import AutoTokenizer\n",
    "import torch\n",
    "import numpy as np\n",
    "from tqdm import tqdm\n",
    "\n",
    "MODEL_PATH = \"j5ng/et5-sentence-comfort\"\n",
    "tokenizer = AutoTokenizer.from_pretrained(MODEL_PATH)\n",
    "sess = InferenceSession(\"../models/onnx/encoder.onnx_uint8.onnx\" , providers=[\"CPUExecutionProvider\"])"
   ]
  },
  {
   "cell_type": "code",
   "execution_count": 7,
   "id": "199a8e56-464a-4d5b-9345-99c31f5d2c1f",
   "metadata": {},
   "outputs": [],
   "source": [
    "def mean_pooling(model_output, attention_mask):\n",
    "    model_output = torch.from_numpy(model_output[0])\n",
    "    # First element of model_output contains all token embeddings\n",
    "    token_embeddings = model_output\n",
    "    attention_mask = torch.from_numpy(attention_mask)\n",
    "    input_mask_expanded = attention_mask.unsqueeze(\n",
    "        -1).expand(token_embeddings.size())\n",
    "    sum_embeddings = torch.sum(token_embeddings * input_mask_expanded, 1)\n",
    "    sum_mask = torch.clamp(input_mask_expanded.sum(1), min=1e-9)\n",
    "    return sum_embeddings / sum_mask, input_mask_expanded, sum_mask"
   ]
  },
  {
   "cell_type": "code",
   "execution_count": 8,
   "id": "47fb9ea1-7e1c-44be-acea-3627d7de1ea3",
   "metadata": {},
   "outputs": [],
   "source": [
    "def embedding_query(query: str, normalize_embeddings=False) -> np.ndarray:\n",
    "    # user turn sequence to query embedding\n",
    "    model_inputs = tokenizer(query, return_tensors=\"pt\")\n",
    "    inputs_onnx = {k: v.cpu().detach().numpy()\n",
    "                   for k, v in model_inputs.items()}\n",
    "    sequence = sess.run(None, inputs_onnx)\n",
    "    query_embedding = mean_pooling(\n",
    "        sequence, inputs_onnx[\"attention_mask\"])[0][0]\n",
    "\n",
    "    if normalize_embeddings:\n",
    "        query_embedding = query_embedding / \\\n",
    "            np.linalg.norm(query_embedding)\n",
    "\n",
    "    return query_embedding.numpy()"
   ]
  },
  {
   "cell_type": "code",
   "execution_count": 9,
   "id": "58367f82-7bce-4321-bbd8-d0827feaa85a",
   "metadata": {},
   "outputs": [
    {
     "name": "stderr",
     "output_type": "stream",
     "text": [
      "100%|█████████████████████████████████████| 34477/34477 [14:34<00:00, 39.44it/s]\n",
      "34477it [00:00, 35619.09it/s]\n",
      "100%|██████████████████████████████████| 34477/34477 [00:00<00:00, 45134.59it/s]\n",
      "100%|███████████████████████████████████████████| 34/34 [00:24<00:00,  1.39it/s]\n"
     ]
    }
   ],
   "source": [
    "ids = []\n",
    "metadatas = []\n",
    "embeddings = [embedding_query(sen, normalize_embeddings=True) for sen in tqdm(df['user'].tolist())]\n",
    "\n",
    "for row in tqdm(df.iterrows()):\n",
    "    index = row[0]\n",
    "    query = row[1]['user']\n",
    "    answer = row[1]['answer']\n",
    "    types = row[1]['class']\n",
    "    \n",
    "    metadata = {\n",
    "        \"query\": query,\n",
    "        \"answer\": answer\n",
    "    }\n",
    "    ids.append(str(index))\n",
    "    metadatas.append(metadata)\n",
    "    \n",
    "chunk_size = 1024  # 한 번에 처리할 chunk 크기 설정\n",
    "total_chunks = len(embeddings) // chunk_size + 1  # 전체 데이터를 chunk 단위로 나눈 횟수\n",
    "embeddings = [ e.tolist() for e in tqdm(embeddings)]  \n",
    "\n",
    "for chunk_idx in tqdm(range(total_chunks)):\n",
    "    start_idx = chunk_idx * chunk_size\n",
    "    end_idx = (chunk_idx + 1) * chunk_size\n",
    "    \n",
    "    # chunk 단위로 데이터 자르기\n",
    "    chunk_embeddings = embeddings[start_idx:end_idx]\n",
    "    chunk_ids = ids[start_idx:end_idx]\n",
    "    chunk_metadatas = metadatas[start_idx:end_idx]\n",
    "    \n",
    "    # chunk를 answers에 추가\n",
    "    answers.add(embeddings=chunk_embeddings, ids=chunk_ids, metadatas=chunk_metadatas)"
   ]
  },
  {
   "cell_type": "code",
   "execution_count": 44,
   "id": "24737041-841b-4e00-a394-f099b112c326",
   "metadata": {},
   "outputs": [
    {
     "data": {
      "text/html": [
       "<div>\n",
       "<style scoped>\n",
       "    .dataframe tbody tr th:only-of-type {\n",
       "        vertical-align: middle;\n",
       "    }\n",
       "\n",
       "    .dataframe tbody tr th {\n",
       "        vertical-align: top;\n",
       "    }\n",
       "\n",
       "    .dataframe thead th {\n",
       "        text-align: right;\n",
       "    }\n",
       "</style>\n",
       "<table border=\"1\" class=\"dataframe\">\n",
       "  <thead>\n",
       "    <tr style=\"text-align: right;\">\n",
       "      <th></th>\n",
       "      <th>answer</th>\n",
       "      <th>query</th>\n",
       "      <th>distances</th>\n",
       "    </tr>\n",
       "  </thead>\n",
       "  <tbody>\n",
       "    <tr>\n",
       "      <th>0</th>\n",
       "      <td>그동안 선생님이 편하다고 느끼는 사람을 만나지 못해서 그럴 수도 있어요. 정말 편하...</td>\n",
       "      <td>마음은 어떻게 여는거야?</td>\n",
       "      <td>0.468593</td>\n",
       "    </tr>\n",
       "    <tr>\n",
       "      <th>1</th>\n",
       "      <td>답답하셨겠어요. 지금부터 알아가면 되지 않을까요? 인생에서 가장 힘드시기는 자기 자...</td>\n",
       "      <td>나도 내 마음을 모르니까 답답해.</td>\n",
       "      <td>0.582045</td>\n",
       "    </tr>\n",
       "    <tr>\n",
       "      <th>2</th>\n",
       "      <td>좋아하는 사람의 행동이나 말투를 말씀해 주시면 제가 느끼는 바를 말씀해 드릴께요.</td>\n",
       "      <td>내가 누군가를 또는 누군가가 나를 좋아하는 마음을 어떻게 알 수 있을까?</td>\n",
       "      <td>0.624415</td>\n",
       "    </tr>\n",
       "  </tbody>\n",
       "</table>\n",
       "</div>"
      ],
      "text/plain": [
       "                                              answer  \\\n",
       "0  그동안 선생님이 편하다고 느끼는 사람을 만나지 못해서 그럴 수도 있어요. 정말 편하...   \n",
       "1  답답하셨겠어요. 지금부터 알아가면 되지 않을까요? 인생에서 가장 힘드시기는 자기 자...   \n",
       "2      좋아하는 사람의 행동이나 말투를 말씀해 주시면 제가 느끼는 바를 말씀해 드릴께요.   \n",
       "\n",
       "                                      query  distances  \n",
       "0                             마음은 어떻게 여는거야?   0.468593  \n",
       "1                        나도 내 마음을 모르니까 답답해.   0.582045  \n",
       "2  내가 누군가를 또는 누군가가 나를 좋아하는 마음을 어떻게 알 수 있을까?   0.624415  "
      ]
     },
     "execution_count": 44,
     "metadata": {},
     "output_type": "execute_result"
    }
   ],
   "source": [
    "query_embeddings = embedding_query(\"진짜 내 마음은 뭘까?\", normalize_embeddings=True).tolist()\n",
    "result = answers.query(\n",
    "    query_embeddings=query_embeddings,\n",
    "    n_results=3\n",
    ")\n",
    "\n",
    "result_df = pd.DataFrame(result['metadatas'][0])\n",
    "result_df['distances'] = result['distances'][0]\n",
    "result_df"
   ]
  },
  {
   "cell_type": "code",
   "execution_count": null,
   "id": "75c0eee2-1beb-4f9b-848c-20208632a87f",
   "metadata": {},
   "outputs": [],
   "source": []
  }
 ],
 "metadata": {
  "kernelspec": {
   "display_name": "torch",
   "language": "python",
   "name": "torch"
  },
  "language_info": {
   "codemirror_mode": {
    "name": "ipython",
    "version": 3
   },
   "file_extension": ".py",
   "mimetype": "text/x-python",
   "name": "python",
   "nbconvert_exporter": "python",
   "pygments_lexer": "ipython3",
   "version": "3.9.16"
  }
 },
 "nbformat": 4,
 "nbformat_minor": 5
}

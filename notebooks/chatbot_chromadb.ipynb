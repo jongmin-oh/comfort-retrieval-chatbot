{
 "cells": [
  {
   "cell_type": "code",
   "execution_count": 1,
   "id": "bd0e42c1-8495-46b2-9015-0434c63eaf23",
   "metadata": {},
   "outputs": [],
   "source": [
    "import chromadb\n",
    "client = chromadb.PersistentClient()"
   ]
  },
  {
   "cell_type": "code",
   "execution_count": 2,
   "id": "c9562c1a-9ed6-4d2e-96e0-9e38cbf73a30",
   "metadata": {},
   "outputs": [],
   "source": [
    "client.delete_collection(\"answers\")"
   ]
  },
  {
   "cell_type": "code",
   "execution_count": 3,
   "id": "dbed9f6f-cfc6-47ad-aa25-881fb9bad5b2",
   "metadata": {},
   "outputs": [],
   "source": [
    "answers = client.create_collection(\n",
    "    name=\"answers\"\n",
    ")"
   ]
  },
  {
   "cell_type": "code",
   "execution_count": 5,
   "id": "5c582efd-de88-4934-a538-580f3792d920",
   "metadata": {
    "tags": []
   },
   "outputs": [
    {
     "data": {
      "text/html": [
       "<div>\n",
       "<style scoped>\n",
       "    .dataframe tbody tr th:only-of-type {\n",
       "        vertical-align: middle;\n",
       "    }\n",
       "\n",
       "    .dataframe tbody tr th {\n",
       "        vertical-align: top;\n",
       "    }\n",
       "\n",
       "    .dataframe thead th {\n",
       "        text-align: right;\n",
       "    }\n",
       "</style>\n",
       "<table border=\"1\" class=\"dataframe\">\n",
       "  <thead>\n",
       "    <tr style=\"text-align: right;\">\n",
       "      <th></th>\n",
       "      <th>user</th>\n",
       "      <th>answer</th>\n",
       "      <th>class</th>\n",
       "    </tr>\n",
       "  </thead>\n",
       "  <tbody>\n",
       "    <tr>\n",
       "      <th>0</th>\n",
       "      <td>12시 땡!</td>\n",
       "      <td>오늘 하루도 수고했어요 좋은 꿈 꾸세요</td>\n",
       "      <td>일상</td>\n",
       "    </tr>\n",
       "    <tr>\n",
       "      <th>1</th>\n",
       "      <td>1지망 학교 떨어졌어</td>\n",
       "      <td>2지망학교는 꼭 붙을거예요!!</td>\n",
       "      <td>일상</td>\n",
       "    </tr>\n",
       "    <tr>\n",
       "      <th>2</th>\n",
       "      <td>3박4일 놀러가고 싶다</td>\n",
       "      <td>요즘은 호캉스가 유행이래요! 호텔에서 맛있는것도 먹고 수영도 하고 영화도 보면 너무...</td>\n",
       "      <td>일상</td>\n",
       "    </tr>\n",
       "    <tr>\n",
       "      <th>3</th>\n",
       "      <td>3박4일 정도 놀러가고 싶다</td>\n",
       "      <td>요즘은 호캉스가 유행이래요! 호텔에서 맛있는것도 먹고 수영도 하고 영화도 보면 너무...</td>\n",
       "      <td>일상</td>\n",
       "    </tr>\n",
       "    <tr>\n",
       "      <th>4</th>\n",
       "      <td>5분 안에 다시 올게</td>\n",
       "      <td>네. 혼자 쓸쓸히 티비나 보면서(흑흑) 기다릴게요!</td>\n",
       "      <td>일상</td>\n",
       "    </tr>\n",
       "    <tr>\n",
       "      <th>...</th>\n",
       "      <td>...</td>\n",
       "      <td>...</td>\n",
       "      <td>...</td>\n",
       "    </tr>\n",
       "    <tr>\n",
       "      <th>34544</th>\n",
       "      <td>내가 듣고싶어하는 말:자살하지마세요.제발요.. 또는... 죽지 마세요..</td>\n",
       "      <td>힘내세요, 선생님. 울어도 되고, 쉬어도 돼요. 그렇지만 언젠가는 꼭 다시 일어나 ...</td>\n",
       "      <td>사연</td>\n",
       "    </tr>\n",
       "    <tr>\n",
       "      <th>34545</th>\n",
       "      <td>그냥 다 놓고 사라져버리고 싶다</td>\n",
       "      <td>힘내세요 .....! 저도 가끔 이세상에서 없어지고 싶다는 생각을 할 때가 종종 있...</td>\n",
       "      <td>사연</td>\n",
       "    </tr>\n",
       "    <tr>\n",
       "      <th>34546</th>\n",
       "      <td>인간의 추악한 모습을 많이봐서 너무 많이실망했다 내가 그들과 같은 인간이라는게 싫다</td>\n",
       "      <td>그들과 같은 인간이지만 그들과 다르게 문제점을 파악하고 있으니 다른 인간 인거에요!...</td>\n",
       "      <td>사연</td>\n",
       "    </tr>\n",
       "    <tr>\n",
       "      <th>34547</th>\n",
       "      <td>죽거나 전학가고싶어요.. 제발 도와주세요..</td>\n",
       "      <td>얼마나 힘들고 괴로우면 죽고싶다는 생각을 할까요..짐작도 못할 만큼 힘들겠지만.. ...</td>\n",
       "      <td>사연</td>\n",
       "    </tr>\n",
       "    <tr>\n",
       "      <th>34548</th>\n",
       "      <td>어떠한 말도 행동도 위로가 되지 않을 때.  그들은 이미 자살을 생각하고 있다.</td>\n",
       "      <td>저는 포기하지 않아요. 계속 위로하고 공감해 줄게요. 무슨 일이든 말해봐요.</td>\n",
       "      <td>사연</td>\n",
       "    </tr>\n",
       "  </tbody>\n",
       "</table>\n",
       "<p>34549 rows × 3 columns</p>\n",
       "</div>"
      ],
      "text/plain": [
       "                                                 user  \\\n",
       "0                                              12시 땡!   \n",
       "1                                         1지망 학교 떨어졌어   \n",
       "2                                        3박4일 놀러가고 싶다   \n",
       "3                                     3박4일 정도 놀러가고 싶다   \n",
       "4                                         5분 안에 다시 올게   \n",
       "...                                               ...   \n",
       "34544        내가 듣고싶어하는 말:자살하지마세요.제발요.. 또는... 죽지 마세요..   \n",
       "34545                               그냥 다 놓고 사라져버리고 싶다   \n",
       "34546  인간의 추악한 모습을 많이봐서 너무 많이실망했다 내가 그들과 같은 인간이라는게 싫다   \n",
       "34547                        죽거나 전학가고싶어요.. 제발 도와주세요..   \n",
       "34548    어떠한 말도 행동도 위로가 되지 않을 때.  그들은 이미 자살을 생각하고 있다.   \n",
       "\n",
       "                                                  answer class  \n",
       "0                                  오늘 하루도 수고했어요 좋은 꿈 꾸세요    일상  \n",
       "1                                       2지망학교는 꼭 붙을거예요!!    일상  \n",
       "2      요즘은 호캉스가 유행이래요! 호텔에서 맛있는것도 먹고 수영도 하고 영화도 보면 너무...    일상  \n",
       "3      요즘은 호캉스가 유행이래요! 호텔에서 맛있는것도 먹고 수영도 하고 영화도 보면 너무...    일상  \n",
       "4                           네. 혼자 쓸쓸히 티비나 보면서(흑흑) 기다릴게요!    일상  \n",
       "...                                                  ...   ...  \n",
       "34544  힘내세요, 선생님. 울어도 되고, 쉬어도 돼요. 그렇지만 언젠가는 꼭 다시 일어나 ...    사연  \n",
       "34545  힘내세요 .....! 저도 가끔 이세상에서 없어지고 싶다는 생각을 할 때가 종종 있...    사연  \n",
       "34546  그들과 같은 인간이지만 그들과 다르게 문제점을 파악하고 있으니 다른 인간 인거에요!...    사연  \n",
       "34547  얼마나 힘들고 괴로우면 죽고싶다는 생각을 할까요..짐작도 못할 만큼 힘들겠지만.. ...    사연  \n",
       "34548         저는 포기하지 않아요. 계속 위로하고 공감해 줄게요. 무슨 일이든 말해봐요.    사연  \n",
       "\n",
       "[34549 rows x 3 columns]"
      ]
     },
     "execution_count": 5,
     "metadata": {},
     "output_type": "execute_result"
    }
   ],
   "source": [
    "import pandas as pd\n",
    "from tqdm import tqdm\n",
    "\n",
    "df = pd.read_excel(\"../resources/comfort_datasets.xlsx\")\n",
    "df"
   ]
  },
  {
   "cell_type": "code",
   "execution_count": 6,
   "id": "d12f2e20-bcd4-48a7-b352-02c479f35cf7",
   "metadata": {},
   "outputs": [
    {
     "name": "stderr",
     "output_type": "stream",
     "text": [
      "/opt/anaconda3/envs/torch/lib/python3.9/site-packages/tqdm/auto.py:21: TqdmWarning: IProgress not found. Please update jupyter and ipywidgets. See https://ipywidgets.readthedocs.io/en/stable/user_install.html\n",
      "  from .autonotebook import tqdm as notebook_tqdm\n"
     ]
    }
   ],
   "source": [
    "from onnxruntime import InferenceSession\n",
    "from transformers import AutoTokenizer\n",
    "import torch\n",
    "import numpy as np\n",
    "from tqdm import tqdm\n",
    "\n",
    "tokenizer = AutoTokenizer.from_pretrained(\"snunlp/KR-SBERT-V40K-klueNLI-augSTS\")\n",
    "sess = InferenceSession(\"../models/onnx/sbert-model_uint8.onnx\" , providers=[\"CPUExecutionProvider\"])"
   ]
  },
  {
   "cell_type": "code",
   "execution_count": 7,
   "id": "199a8e56-464a-4d5b-9345-99c31f5d2c1f",
   "metadata": {},
   "outputs": [],
   "source": [
    "def mean_pooling(model_output, attention_mask):\n",
    "    model_output = torch.from_numpy(model_output[0])\n",
    "    # First element of model_output contains all token embeddings\n",
    "    token_embeddings = model_output\n",
    "    attention_mask = torch.from_numpy(attention_mask)\n",
    "    input_mask_expanded = attention_mask.unsqueeze(\n",
    "        -1).expand(token_embeddings.size())\n",
    "    sum_embeddings = torch.sum(token_embeddings * input_mask_expanded, 1)\n",
    "    sum_mask = torch.clamp(input_mask_expanded.sum(1), min=1e-9)\n",
    "    return sum_embeddings / sum_mask, input_mask_expanded, sum_mask"
   ]
  },
  {
   "cell_type": "code",
   "execution_count": 8,
   "id": "47fb9ea1-7e1c-44be-acea-3627d7de1ea3",
   "metadata": {},
   "outputs": [],
   "source": [
    "def embedding_query(query: str, normalize_embeddings=False) -> np.ndarray:\n",
    "    # user turn sequence to query embedding\n",
    "    model_inputs = tokenizer(query, return_tensors=\"pt\")\n",
    "    inputs_onnx = {k: v.cpu().detach().numpy()\n",
    "                   for k, v in model_inputs.items()}\n",
    "    sequence = sess.run(None, inputs_onnx)\n",
    "    query_embedding = mean_pooling(\n",
    "        sequence, inputs_onnx[\"attention_mask\"])[0][0]\n",
    "\n",
    "    if normalize_embeddings:\n",
    "        query_embedding = query_embedding / \\\n",
    "            np.linalg.norm(query_embedding)\n",
    "\n",
    "    return query_embedding.numpy()"
   ]
  },
  {
   "cell_type": "code",
   "execution_count": 9,
   "id": "58367f82-7bce-4321-bbd8-d0827feaa85a",
   "metadata": {},
   "outputs": [
    {
     "name": "stderr",
     "output_type": "stream",
     "text": [
      "100%|███████████████████████████████████████| 34549/34549 [13:08<00:00, 43.80it/s]\n",
      "34549it [00:01, 29961.38it/s]\n",
      "100%|████████████████████████████████████| 34549/34549 [00:00<00:00, 36899.11it/s]\n",
      "100%|█████████████████████████████████████████████| 34/34 [00:30<00:00,  1.12it/s]\n"
     ]
    }
   ],
   "source": [
    "ids = []\n",
    "metadatas = []\n",
    "embeddings = [embedding_query(sen, normalize_embeddings=True) for sen in tqdm(df['user'].tolist())]\n",
    "\n",
    "for row in tqdm(df.iterrows()):\n",
    "    index = row[0]\n",
    "    query = row[1]['user']\n",
    "    answer = row[1]['answer']\n",
    "    types = row[1]['class']\n",
    "    \n",
    "    metadata = {\n",
    "        \"query\": query,\n",
    "        \"answer\": answer\n",
    "    }\n",
    "    ids.append(str(index))\n",
    "    metadatas.append(metadata)\n",
    "    \n",
    "chunk_size = 1024  # 한 번에 처리할 chunk 크기 설정\n",
    "total_chunks = len(embeddings) // chunk_size + 1  # 전체 데이터를 chunk 단위로 나눈 횟수\n",
    "embeddings = [ e.tolist() for e in tqdm(embeddings)]  \n",
    "\n",
    "for chunk_idx in tqdm(range(total_chunks)):\n",
    "    start_idx = chunk_idx * chunk_size\n",
    "    end_idx = (chunk_idx + 1) * chunk_size\n",
    "    \n",
    "    # chunk 단위로 데이터 자르기\n",
    "    chunk_embeddings = embeddings[start_idx:end_idx]\n",
    "    chunk_ids = ids[start_idx:end_idx]\n",
    "    chunk_metadatas = metadatas[start_idx:end_idx]\n",
    "    \n",
    "    # chunk를 answers에 추가\n",
    "    answers.add(embeddings=chunk_embeddings, ids=chunk_ids, metadatas=chunk_metadatas)"
   ]
  },
  {
   "cell_type": "code",
   "execution_count": 11,
   "id": "24737041-841b-4e00-a394-f099b112c326",
   "metadata": {},
   "outputs": [
    {
     "data": {
      "text/html": [
       "<div>\n",
       "<style scoped>\n",
       "    .dataframe tbody tr th:only-of-type {\n",
       "        vertical-align: middle;\n",
       "    }\n",
       "\n",
       "    .dataframe tbody tr th {\n",
       "        vertical-align: top;\n",
       "    }\n",
       "\n",
       "    .dataframe thead th {\n",
       "        text-align: right;\n",
       "    }\n",
       "</style>\n",
       "<table border=\"1\" class=\"dataframe\">\n",
       "  <thead>\n",
       "    <tr style=\"text-align: right;\">\n",
       "      <th></th>\n",
       "      <th>answer</th>\n",
       "      <th>query</th>\n",
       "      <th>distances</th>\n",
       "    </tr>\n",
       "  </thead>\n",
       "  <tbody>\n",
       "    <tr>\n",
       "      <th>0</th>\n",
       "      <td>요즘 많이 힘들었군요.. 제가 종종 하는 방법인데, 선생님의 마음을 한번 종이에 적...</td>\n",
       "      <td>계속 눈물이 나.</td>\n",
       "      <td>0.179987</td>\n",
       "    </tr>\n",
       "  </tbody>\n",
       "</table>\n",
       "</div>"
      ],
      "text/plain": [
       "                                              answer      query  distances\n",
       "0  요즘 많이 힘들었군요.. 제가 종종 하는 방법인데, 선생님의 마음을 한번 종이에 적...  계속 눈물이 나.   0.179987"
      ]
     },
     "execution_count": 11,
     "metadata": {},
     "output_type": "execute_result"
    }
   ],
   "source": [
    "query_embeddings = embedding_query(\"자꾸만 눈물이 나와\", normalize_embeddings=True).tolist()\n",
    "result = answers.query(\n",
    "    query_embeddings=query_embeddings,\n",
    "    n_results=1\n",
    ")\n",
    "\n",
    "result_df = pd.DataFrame(result['metadatas'][0])\n",
    "result_df['distances'] = result['distances'][0]\n",
    "result_df"
   ]
  }
 ],
 "metadata": {
  "kernelspec": {
   "display_name": "torch",
   "language": "python",
   "name": "torch"
  },
  "language_info": {
   "codemirror_mode": {
    "name": "ipython",
    "version": 3
   },
   "file_extension": ".py",
   "mimetype": "text/x-python",
   "name": "python",
   "nbconvert_exporter": "python",
   "pygments_lexer": "ipython3",
   "version": "3.9.16"
  }
 },
 "nbformat": 4,
 "nbformat_minor": 5
}

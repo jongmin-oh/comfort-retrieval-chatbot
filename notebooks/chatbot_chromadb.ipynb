{
 "cells": [
  {
   "cell_type": "code",
   "execution_count": 1,
   "id": "bd0e42c1-8495-46b2-9015-0434c63eaf23",
   "metadata": {},
   "outputs": [],
   "source": [
    "import chromadb\n",
    "client = chromadb.PersistentClient()"
   ]
  },
  {
   "cell_type": "code",
   "execution_count": 2,
   "id": "dbed9f6f-cfc6-47ad-aa25-881fb9bad5b2",
   "metadata": {},
   "outputs": [],
   "source": [
    "answers = client.create_collection(\n",
    "    name=\"answers\"\n",
    ")"
   ]
  },
  {
   "cell_type": "code",
   "execution_count": 4,
   "id": "5c582efd-de88-4934-a538-580f3792d920",
   "metadata": {},
   "outputs": [
    {
     "data": {
      "text/html": [
       "<div>\n",
       "<style scoped>\n",
       "    .dataframe tbody tr th:only-of-type {\n",
       "        vertical-align: middle;\n",
       "    }\n",
       "\n",
       "    .dataframe tbody tr th {\n",
       "        vertical-align: top;\n",
       "    }\n",
       "\n",
       "    .dataframe thead th {\n",
       "        text-align: right;\n",
       "    }\n",
       "</style>\n",
       "<table border=\"1\" class=\"dataframe\">\n",
       "  <thead>\n",
       "    <tr style=\"text-align: right;\">\n",
       "      <th></th>\n",
       "      <th>user</th>\n",
       "      <th>answer</th>\n",
       "      <th>class</th>\n",
       "    </tr>\n",
       "  </thead>\n",
       "  <tbody>\n",
       "    <tr>\n",
       "      <th>12547</th>\n",
       "      <td>피해 다니면 좋아했던 마음이 좀 사라질까?</td>\n",
       "      <td>좋아하는 마음을 억지로 없애려고 하면 더 힘들어질 거예요. 오히려 그 사람에게 솔직...</td>\n",
       "      <td>연애</td>\n",
       "    </tr>\n",
       "    <tr>\n",
       "      <th>1257</th>\n",
       "      <td>나중에 뭐할까 고민이야</td>\n",
       "      <td>지금 하는 일 열심히 하다보면 길이 보일거예요~</td>\n",
       "      <td>일상</td>\n",
       "    </tr>\n",
       "    <tr>\n",
       "      <th>5470</th>\n",
       "      <td>신용카드 다 없애야겠어</td>\n",
       "      <td>신용카드는 혜택이 많아서 잘 쓰면 좋지만 씀씀이가 커지니 조심해야해요</td>\n",
       "      <td>일상</td>\n",
       "    </tr>\n",
       "    <tr>\n",
       "      <th>10422</th>\n",
       "      <td>변하지 않는 사람도 있겠지?</td>\n",
       "      <td>네 있습니다. 물론 그 반대의 경우도 있죠. 변하지 않는 것과 변하는 것, 어느 쪽...</td>\n",
       "      <td>연애</td>\n",
       "    </tr>\n",
       "    <tr>\n",
       "      <th>9744</th>\n",
       "      <td>남자친구가 술주정 부려</td>\n",
       "      <td>포기하거나 이해하거나 둘 중 하나예요.</td>\n",
       "      <td>연애</td>\n",
       "    </tr>\n",
       "  </tbody>\n",
       "</table>\n",
       "</div>"
      ],
      "text/plain": [
       "                          user  \\\n",
       "12547  피해 다니면 좋아했던 마음이 좀 사라질까?   \n",
       "1257              나중에 뭐할까 고민이야   \n",
       "5470              신용카드 다 없애야겠어   \n",
       "10422          변하지 않는 사람도 있겠지?   \n",
       "9744              남자친구가 술주정 부려   \n",
       "\n",
       "                                                  answer class  \n",
       "12547  좋아하는 마음을 억지로 없애려고 하면 더 힘들어질 거예요. 오히려 그 사람에게 솔직...    연애  \n",
       "1257                          지금 하는 일 열심히 하다보면 길이 보일거예요~    일상  \n",
       "5470              신용카드는 혜택이 많아서 잘 쓰면 좋지만 씀씀이가 커지니 조심해야해요    일상  \n",
       "10422  네 있습니다. 물론 그 반대의 경우도 있죠. 변하지 않는 것과 변하는 것, 어느 쪽...    연애  \n",
       "9744                               포기하거나 이해하거나 둘 중 하나예요.    연애  "
      ]
     },
     "execution_count": 4,
     "metadata": {},
     "output_type": "execute_result"
    }
   ],
   "source": [
    "import pandas as pd\n",
    "from tqdm import tqdm\n",
    "\n",
    "df = pd.read_excel(\"../resource/comfort.xlsx\")\n",
    "df.sample(5)"
   ]
  },
  {
   "cell_type": "code",
   "execution_count": 5,
   "id": "d12f2e20-bcd4-48a7-b352-02c479f35cf7",
   "metadata": {},
   "outputs": [
    {
     "name": "stderr",
     "output_type": "stream",
     "text": [
      "/opt/anaconda3/envs/torch/lib/python3.9/site-packages/tqdm/auto.py:21: TqdmWarning: IProgress not found. Please update jupyter and ipywidgets. See https://ipywidgets.readthedocs.io/en/stable/user_install.html\n",
      "  from .autonotebook import tqdm as notebook_tqdm\n"
     ]
    }
   ],
   "source": [
    "from sentence_transformers import SentenceTransformer\n",
    "model = SentenceTransformer('snunlp/KR-SBERT-V40K-klueNLI-augSTS')"
   ]
  },
  {
   "cell_type": "code",
   "execution_count": 9,
   "id": "58367f82-7bce-4321-bbd8-d0827feaa85a",
   "metadata": {},
   "outputs": [
    {
     "name": "stderr",
     "output_type": "stream",
     "text": [
      "Batches: 100%|████████████████████████████████| 397/397 [01:23<00:00,  4.76it/s]\n",
      "12701it [00:00, 33037.14it/s]\n",
      "100%|██████████████████████████████████| 12701/12701 [00:00<00:00, 35134.35it/s]\n",
      "100%|███████████████████████████████████████████| 13/13 [00:08<00:00,  1.62it/s]\n"
     ]
    }
   ],
   "source": [
    "ids = []\n",
    "metadatas = []\n",
    "embeddings = model.encode(df['user'],\n",
    "                          normalize_embeddings=True,\n",
    "                          show_progress_bar=True)\n",
    "\n",
    "for row in tqdm(df.iterrows()):\n",
    "    index = row[0]\n",
    "    query = row[1].user\n",
    "    answer = row[1].answer\n",
    "    \n",
    "    metadata = {\n",
    "        \"query\": query,\n",
    "        \"answer\": answer\n",
    "    }\n",
    "    ids.append(str(index))\n",
    "    metadatas.append(metadata)\n",
    "    \n",
    "chunk_size = 1024  # 한 번에 처리할 chunk 크기 설정\n",
    "total_chunks = len(embeddings) // chunk_size + 1  # 전체 데이터를 chunk 단위로 나눈 횟수\n",
    "embeddings = [ e.tolist() for e in tqdm(embeddings)]  \n",
    "\n",
    "for chunk_idx in tqdm(range(total_chunks)):\n",
    "    start_idx = chunk_idx * chunk_size\n",
    "    end_idx = (chunk_idx + 1) * chunk_size\n",
    "    \n",
    "    # chunk 단위로 데이터 자르기\n",
    "    chunk_embeddings = embeddings[start_idx:end_idx]\n",
    "    chunk_ids = ids[start_idx:end_idx]\n",
    "    chunk_metadatas = metadatas[start_idx:end_idx]\n",
    "    \n",
    "    # chunk를 answers에 추가\n",
    "    answers.add(embeddings=chunk_embeddings, ids=chunk_ids, metadatas=chunk_metadatas)"
   ]
  },
  {
   "cell_type": "code",
   "execution_count": 32,
   "id": "24737041-841b-4e00-a394-f099b112c326",
   "metadata": {},
   "outputs": [
    {
     "data": {
      "text/html": [
       "<div>\n",
       "<style scoped>\n",
       "    .dataframe tbody tr th:only-of-type {\n",
       "        vertical-align: middle;\n",
       "    }\n",
       "\n",
       "    .dataframe tbody tr th {\n",
       "        vertical-align: top;\n",
       "    }\n",
       "\n",
       "    .dataframe thead th {\n",
       "        text-align: right;\n",
       "    }\n",
       "</style>\n",
       "<table border=\"1\" class=\"dataframe\">\n",
       "  <thead>\n",
       "    <tr style=\"text-align: right;\">\n",
       "      <th></th>\n",
       "      <th>answer</th>\n",
       "      <th>query</th>\n",
       "      <th>distances</th>\n",
       "    </tr>\n",
       "  </thead>\n",
       "  <tbody>\n",
       "    <tr>\n",
       "      <th>0</th>\n",
       "      <td>왜 울어요? 무슨 일 있어요?</td>\n",
       "      <td>갑자기 눈물 나</td>\n",
       "      <td>0.332244</td>\n",
       "    </tr>\n",
       "  </tbody>\n",
       "</table>\n",
       "</div>"
      ],
      "text/plain": [
       "             answer     query  distances\n",
       "0  왜 울어요? 무슨 일 있어요?  갑자기 눈물 나   0.332244"
      ]
     },
     "execution_count": 32,
     "metadata": {},
     "output_type": "execute_result"
    }
   ],
   "source": [
    "result = answers.query(\n",
    "    query_embeddings=model.encode(\"자꾸만 눈물이 나와\", normalize_embeddings=True).tolist(),\n",
    "    n_results=1\n",
    ")\n",
    "\n",
    "result_df = pd.DataFrame(result['metadatas'][0])\n",
    "result_df['distances'] = result['distances'][0]\n",
    "result_df"
   ]
  },
  {
   "cell_type": "code",
   "execution_count": 38,
   "id": "e72ab60e-2dfe-46ae-b61f-d6c5c01dec03",
   "metadata": {},
   "outputs": [
    {
     "data": {
      "text/plain": [
       "'왜 울어요? 무슨 일 있어요?'"
      ]
     },
     "execution_count": 38,
     "metadata": {},
     "output_type": "execute_result"
    }
   ],
   "source": [
    "result['metadatas'][0][0]['answer']"
   ]
  },
  {
   "cell_type": "code",
   "execution_count": null,
   "id": "05bd02f7-dfab-4867-aec4-29a006f1035c",
   "metadata": {},
   "outputs": [],
   "source": []
  }
 ],
 "metadata": {
  "kernelspec": {
   "display_name": "torch",
   "language": "python",
   "name": "torch"
  },
  "language_info": {
   "codemirror_mode": {
    "name": "ipython",
    "version": 3
   },
   "file_extension": ".py",
   "mimetype": "text/x-python",
   "name": "python",
   "nbconvert_exporter": "python",
   "pygments_lexer": "ipython3",
   "version": "3.9.16"
  }
 },
 "nbformat": 4,
 "nbformat_minor": 5
}

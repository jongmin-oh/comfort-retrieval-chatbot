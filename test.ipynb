{
 "cells": [
  {
   "cell_type": "code",
   "execution_count": 16,
   "id": "c4a56836-cfa6-445b-aa9c-f1af720ccfa8",
   "metadata": {},
   "outputs": [
    {
     "name": "stderr",
     "output_type": "stream",
     "text": [
      "No sentence-transformers model found with name ./models/Huffon_sentence-klue-roberta-base. Creating a new one with MEAN pooling.\n"
     ]
    }
   ],
   "source": [
    "import pandas as pd\n",
    "import numpy as np\n",
    "import json\n",
    "import faiss\n",
    "from datetime import datetime\n",
    "import random\n",
    "from sentence_transformers import SentenceTransformer , util\n",
    "import requests\n",
    "\n",
    "import mysql.connector.pooling\n",
    "\n",
    "#MySQL DB 연결\n",
    "with open('./config/db_config.json','r') as f:\n",
    "    dbconfig = json.load(f)\n",
    "    \n",
    "cnxpool = mysql.connector.pooling.MySQLConnectionPool(pool_name = 'mypool',\n",
    "                                                      pool_size = 3,\n",
    "                                                      pool_reset_session=True,\n",
    "                                                      **dbconfig) \n",
    "\n",
    "qestion_embedder = SentenceTransformer(\"./models/Huffon_sentence-klue-roberta-base\")\n",
    "index = faiss.read_index(\"./faiss/sts.index\")"
   ]
  },
  {
   "cell_type": "code",
   "execution_count": 10,
   "id": "26ea846c-3e37-40b4-af61-d26f4bd02e9a",
   "metadata": {},
   "outputs": [],
   "source": [
    "session_id = 1\n",
    "ping_pong_url = f\"https://builder.pingpong.us/api/builder/62c45862e4b0d7787e968b85/integration/v0.2/custom/{session_id}\"\n",
    "ping_pong_auth = \"Basic a2V5OmVjNmEwNTQ1YTE2N2EzNWYwZmUzY2I0NGRiM2E0ZTk2\"\n",
    "headers = {\"Authorization\" : ping_pong_auth , \"Content-Type\" : \"application/json\"}"
   ]
  },
  {
   "cell_type": "code",
   "execution_count": 45,
   "id": "38158e02-fd7f-44ae-a234-df59aabfef93",
   "metadata": {},
   "outputs": [],
   "source": [
    "data = {\"request\": {\"query\": \"안녕하세요\"}}\n",
    "data = {\"request\": {\"query\": \"안녕하세요\"}}\n",
    "res = requests.post(ping_pong_url, headers = headers , json=data).json()"
   ]
  },
  {
   "cell_type": "code",
   "execution_count": 56,
   "id": "461f0c47-eeca-4ecf-b298-68f9be811066",
   "metadata": {},
   "outputs": [
    {
     "data": {
      "text/plain": [
       "'네 안녕안녕하세요!'"
      ]
     },
     "execution_count": 56,
     "metadata": {},
     "output_type": "execute_result"
    }
   ],
   "source": [
    "res['response']['replies'][0]['text']"
   ]
  },
  {
   "cell_type": "code",
   "execution_count": 42,
   "id": "1fb3a5e6-174c-42b3-baa2-e357e2d1811c",
   "metadata": {},
   "outputs": [
    {
     "ename": "TypeError",
     "evalue": "'Response' object is not subscriptable",
     "output_type": "error",
     "traceback": [
      "\u001b[0;31m---------------------------------------------------------------------------\u001b[0m",
      "\u001b[0;31mTypeError\u001b[0m                                 Traceback (most recent call last)",
      "\u001b[0;32m/var/folders/9q/6gc_1qhx1pj3zm93fp22l0140000gn/T/ipykernel_10152/1062687868.py\u001b[0m in \u001b[0;36m<module>\u001b[0;34m\u001b[0m\n\u001b[0;32m----> 1\u001b[0;31m \u001b[0mres\u001b[0m\u001b[0;34m[\u001b[0m\u001b[0;34m'response'\u001b[0m\u001b[0;34m]\u001b[0m\u001b[0;34m\u001b[0m\u001b[0;34m\u001b[0m\u001b[0m\n\u001b[0m",
      "\u001b[0;31mTypeError\u001b[0m: 'Response' object is not subscriptable"
     ]
    }
   ],
   "source": [
    "res"
   ]
  },
  {
   "cell_type": "code",
   "execution_count": 41,
   "id": "178240b8-3e21-4a04-a301-53f0b3569bda",
   "metadata": {},
   "outputs": [
    {
     "data": {
      "text/plain": [
       "'{\"response\":{\"replies\":[{\"from\":{\"score\":1.0,\"name\":\"conversation\",\"link\":\"/bot/62c45862e4b0d7787e968b85/conversation?scriptId=62c45862e4b0d7787e968bee\",\"from\":\"대화 시나리오 / 안녕\"},\"type\":\"text\",\"text\":\"안녕안녕입니다\\\\uD83D\\\\uDD90\"}]},\"version\":\"1.0.0\"}'"
      ]
     },
     "execution_count": 41,
     "metadata": {},
     "output_type": "execute_result"
    }
   ],
   "source": [
    "res.text"
   ]
  },
  {
   "cell_type": "code",
   "execution_count": 2,
   "id": "d77b7aab-3adf-45ad-ae43-b01a12df97d2",
   "metadata": {},
   "outputs": [],
   "source": [
    "def chatbot_answer(query : str ) -> str :\n",
    "    \n",
    "    #----------------------------#\n",
    "    # Retrieval part             #\n",
    "    #----------------------------#\n",
    "    qestion_embedding = qestion_embedder.encode(query, normalize_embeddings=True,convert_to_tensor=True)\n",
    "    distances, indices = index.search(np.expand_dims(qestion_embedding,axis=0),3)\n",
    "    \n",
    "    #max distance 가 0.5가 안넘으면 무슨말인지 모르겠어요 하고 NoSQL에 축적\n",
    "    if np.min(distances[0]) > 0.6:\n",
    "        data = {\"request\": {\"query\": query}}\n",
    "        res = requests.post(ping_pong_url, headers = headers , json=data).json()\n",
    "        #----NoSQL로 전송-------#\n",
    "        #print(np.max(distances[0]))\n",
    "        return res['response']['replies'][0]['text']\n",
    "    \n",
    "    index_q = [i[1] for i in zip(distances[0],indices[0]) if i[0] <= 0.6]\n",
    "    index_q = list(map(lambda x : x+1, index_q))\n",
    "    index_q = str(index_q).replace('[','(').replace(']',')')\n",
    "    \n",
    "    # MySQL DB에서 임베딩 벡터를 검색 Bi-Encoder\n",
    "    cnx = cnxpool.get_connection()\n",
    "    cursor = cnx.cursor(dictionary=True)\n",
    "    \n",
    "    sql = f\"\"\"SELECT `index` , user, system FROM chatbot WHERE `index` IN {index_q};\"\"\"\n",
    "    cursor.execute(sql)\n",
    "    res = cursor.fetchall()\n",
    "\n",
    "    cnx.close()\n",
    "    cursor.close()\n",
    "    \n",
    "    temp = pd.DataFrame(res)\n",
    "    \n",
    "    if len(temp) < 2 :\n",
    "        return temp.loc[0].system\n",
    "    \n",
    "    return temp.loc[random.randint(0,1)].system"
   ]
  },
  {
   "cell_type": "code",
   "execution_count": 8,
   "id": "3db70b7d-fc99-4ca0-94d6-124155212930",
   "metadata": {},
   "outputs": [
    {
     "data": {
      "text/plain": [
       "'이제 그리워하지마세요.'"
      ]
     },
     "execution_count": 8,
     "metadata": {},
     "output_type": "execute_result"
    }
   ],
   "source": [
    "chatbot_answer(\"헤어졌어 여자친구랑\")"
   ]
  },
  {
   "cell_type": "code",
   "execution_count": null,
   "id": "9b9b27a6-c91e-4b77-b04b-b6c16179ee97",
   "metadata": {},
   "outputs": [],
   "source": []
  },
  {
   "cell_type": "code",
   "execution_count": null,
   "id": "7e88dd40-de79-4d96-a195-a5d66045a8d2",
   "metadata": {},
   "outputs": [],
   "source": []
  }
 ],
 "metadata": {
  "kernelspec": {
   "display_name": "Python 3 (ipykernel)",
   "language": "python",
   "name": "python3"
  },
  "language_info": {
   "codemirror_mode": {
    "name": "ipython",
    "version": 3
   },
   "file_extension": ".py",
   "mimetype": "text/x-python",
   "name": "python",
   "nbconvert_exporter": "python",
   "pygments_lexer": "ipython3",
   "version": "3.8.12"
  }
 },
 "nbformat": 4,
 "nbformat_minor": 5
}
